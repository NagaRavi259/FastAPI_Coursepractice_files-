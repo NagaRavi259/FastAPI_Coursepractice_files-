{
 "cells": [
  {
   "cell_type": "markdown",
   "id": "94aacd60-435e-4463-8218-70428764c44c",
   "metadata": {
    "tags": []
   },
   "source": [
    "# FastAPI"
   ]
  },
  {
   "cell_type": "code",
   "execution_count": 3,
   "id": "20767068-25f5-4a4c-989f-be7e93758c2d",
   "metadata": {},
   "outputs": [
    {
     "data": {
      "text/plain": [
       "8.333333333333334"
      ]
     },
     "execution_count": 3,
     "metadata": {},
     "output_type": "execute_result"
    }
   ],
   "source": [
    "(0.25*2000)/60"
   ]
  },
  {
   "cell_type": "markdown",
   "id": "b5656867-14a1-4524-a1e4-bf1f27da0e74",
   "metadata": {
    "tags": []
   },
   "source": [
    "## Installing Requirements & Dependency's"
   ]
  },
  {
   "cell_type": "code",
   "execution_count": 1,
   "id": "df2d6540-c80f-4aeb-98b9-d9e9f9d71659",
   "metadata": {},
   "outputs": [
    {
     "name": "stderr",
     "output_type": "stream",
     "text": [
      "Cloning into 'fastapi-the-complete-course'...\n"
     ]
    }
   ],
   "source": [
    "!git clone https://github.com/codingwithroby/fastapi-the-complete-course.git"
   ]
  },
  {
   "cell_type": "code",
   "execution_count": 5,
   "id": "ca886cb2-9d37-41b0-b349-c264d4ca868b",
   "metadata": {
    "scrolled": true,
    "tags": []
   },
   "outputs": [
    {
     "name": "stdout",
     "output_type": "stream",
     "text": [
      "Collecting alembic==1.7.7\n",
      "  Using cached alembic-1.7.7-py3-none-any.whl (210 kB)\n",
      "Collecting aiofiles==0.5.0\n",
      "  Using cached aiofiles-0.5.0-py3-none-any.whl (11 kB)\n",
      "Collecting bcrypt==3.2.0\n",
      "  Using cached bcrypt-3.2.0-cp36-abi3-win_amd64.whl (28 kB)\n",
      "Collecting cffi==1.15.0\n",
      "  Downloading cffi-1.15.0-cp310-cp310-win_amd64.whl (180 kB)\n",
      "     ------------------------------------ 180.3/180.3 kB 909.4 kB/s eta 0:00:00\n",
      "Collecting click==7.1.2\n",
      "  Using cached click-7.1.2-py2.py3-none-any.whl (82 kB)\n",
      "Collecting cryptography==35.0.0\n",
      "  Using cached cryptography-35.0.0-cp36-abi3-win_amd64.whl (2.1 MB)\n",
      "Collecting ecdsa==0.17.0\n",
      "  Using cached ecdsa-0.17.0-py2.py3-none-any.whl (119 kB)\n",
      "Collecting fastapi==0.68.1\n",
      "  Using cached fastapi-0.68.1-py3-none-any.whl (52 kB)\n",
      "Collecting greenlet==1.1.2\n",
      "  Downloading greenlet-1.1.2-cp310-cp310-win_amd64.whl (101 kB)\n",
      "     -------------------------------------- 102.0/102.0 kB 5.7 MB/s eta 0:00:00\n",
      "Collecting h11==0.13.0\n",
      "  Using cached h11-0.13.0-py3-none-any.whl (58 kB)\n",
      "Requirement already satisfied: Jinja2==3.0.3 in c:\\users\\vnaga\\anaconda3\\envs\\fastapi\\lib\\site-packages (from -r fastapi-the-complete-course/FastAPI/TodoApp/requirements.txt (line 11)) (3.0.3)\n",
      "Collecting MarkupSafe==2.1.0\n",
      "  Downloading MarkupSafe-2.1.0-cp310-cp310-win_amd64.whl (16 kB)\n",
      "Collecting passlib==1.7.4\n",
      "  Using cached passlib-1.7.4-py2.py3-none-any.whl (525 kB)\n",
      "Collecting psycopg2-binary==2.9.3\n",
      "  Downloading psycopg2_binary-2.9.3-cp310-cp310-win_amd64.whl (1.2 MB)\n",
      "     ---------------------------------------- 1.2/1.2 MB 2.6 MB/s eta 0:00:00\n",
      "Collecting pyasn1==0.4.8\n",
      "  Using cached pyasn1-0.4.8-py2.py3-none-any.whl (77 kB)\n",
      "Requirement already satisfied: pycparser==2.21 in c:\\users\\vnaga\\anaconda3\\envs\\fastapi\\lib\\site-packages (from -r fastapi-the-complete-course/FastAPI/TodoApp/requirements.txt (line 16)) (2.21)\n",
      "Collecting pydantic==1.9.0\n",
      "  Downloading pydantic-1.9.0-cp310-cp310-win_amd64.whl (2.1 MB)\n",
      "     ---------------------------------------- 2.1/2.1 MB 2.2 MB/s eta 0:00:00\n",
      "Collecting PyMySQL==1.0.2\n",
      "  Using cached PyMySQL-1.0.2-py3-none-any.whl (43 kB)\n",
      "Collecting python-jose==3.3.0\n",
      "  Using cached python_jose-3.3.0-py2.py3-none-any.whl (33 kB)\n",
      "Collecting python-multipart==0.0.5\n",
      "  Using cached python-multipart-0.0.5.tar.gz (32 kB)\n",
      "  Preparing metadata (setup.py): started\n",
      "  Preparing metadata (setup.py): finished with status 'done'\n",
      "Collecting rsa==4.8\n",
      "  Using cached rsa-4.8-py3-none-any.whl (39 kB)\n",
      "Requirement already satisfied: six==1.16.0 in c:\\users\\vnaga\\anaconda3\\envs\\fastapi\\lib\\site-packages (from -r fastapi-the-complete-course/FastAPI/TodoApp/requirements.txt (line 22)) (1.16.0)\n",
      "Collecting SQLAlchemy==1.4.25\n",
      "  Downloading SQLAlchemy-1.4.25.tar.gz (7.8 MB)\n",
      "     ---------------------------------------- 7.8/7.8 MB 2.7 MB/s eta 0:00:00\n",
      "  Preparing metadata (setup.py): started\n",
      "  Preparing metadata (setup.py): finished with status 'done'\n",
      "Collecting starlette==0.14.2\n",
      "  Using cached starlette-0.14.2-py3-none-any.whl (60 kB)\n",
      "Collecting typing_extensions==4.1.1\n",
      "  Using cached typing_extensions-4.1.1-py3-none-any.whl (26 kB)\n",
      "Collecting uvicorn==0.13.4\n",
      "  Using cached uvicorn-0.13.4-py3-none-any.whl (46 kB)\n",
      "Collecting Mako\n",
      "  Using cached Mako-1.2.1-py3-none-any.whl (78 kB)\n",
      "Building wheels for collected packages: python-multipart, SQLAlchemy\n",
      "  Building wheel for python-multipart (setup.py): started\n",
      "  Building wheel for python-multipart (setup.py): finished with status 'done'\n",
      "  Created wheel for python-multipart: filename=python_multipart-0.0.5-py3-none-any.whl size=31671 sha256=373c1d068ac4f630a4faddf75b88cd63be685420e61a8b0e2efb01839b2c39e5\n",
      "  Stored in directory: c:\\users\\vnaga\\appdata\\local\\pip\\cache\\wheels\\ae\\3f\\03\\fa4bd98cd7f4a25e63b6a0b61a7a8352e0f874cd9de1f3390d\n",
      "  Building wheel for SQLAlchemy (setup.py): started\n",
      "  Building wheel for SQLAlchemy (setup.py): finished with status 'done'\n",
      "  Created wheel for SQLAlchemy: filename=SQLAlchemy-1.4.25-cp310-cp310-win_amd64.whl size=1511561 sha256=ad3357048d8f8e9aeb92482b6fb5dea4816ca858cab977bb5a4a1f0224786daf\n",
      "  Stored in directory: c:\\users\\vnaga\\appdata\\local\\pip\\cache\\wheels\\eb\\d2\\fb\\76e0021c3cf02cb6590cf88ccf6f6e31bcfe8532f422cdf1ed\n",
      "Successfully built python-multipart SQLAlchemy\n",
      "Installing collected packages: pyasn1, passlib, aiofiles, typing_extensions, starlette, rsa, python-multipart, PyMySQL, psycopg2-binary, MarkupSafe, h11, greenlet, ecdsa, click, cffi, uvicorn, SQLAlchemy, python-jose, pydantic, Mako, cryptography, bcrypt, fastapi, alembic\n",
      "  Attempting uninstall: typing_extensions\n",
      "    Found existing installation: typing_extensions 4.3.0\n",
      "    Uninstalling typing_extensions-4.3.0:\n",
      "      Successfully uninstalled typing_extensions-4.3.0\n",
      "  Attempting uninstall: MarkupSafe\n",
      "    Found existing installation: MarkupSafe 2.1.1\n",
      "    Uninstalling MarkupSafe-2.1.1:\n",
      "      Successfully uninstalled MarkupSafe-2.1.1\n",
      "  Attempting uninstall: cffi\n",
      "    Found existing installation: cffi 1.15.1\n",
      "    Uninstalling cffi-1.15.1:\n",
      "      Successfully uninstalled cffi-1.15.1\n",
      "  Attempting uninstall: cryptography\n",
      "    Found existing installation: cryptography 37.0.1\n",
      "    Uninstalling cryptography-37.0.1:\n",
      "      Successfully uninstalled cryptography-37.0.1\n",
      "Successfully installed Mako-1.2.1 MarkupSafe-2.1.0 PyMySQL-1.0.2 SQLAlchemy-1.4.25 aiofiles-0.5.0 alembic-1.7.7 bcrypt-3.2.0 cffi-1.15.0 click-7.1.2 cryptography-35.0.0 ecdsa-0.17.0 fastapi-0.68.1 greenlet-1.1.2 h11-0.13.0 passlib-1.7.4 psycopg2-binary-2.9.3 pyasn1-0.4.8 pydantic-1.9.0 python-jose-3.3.0 python-multipart-0.0.5 rsa-4.8 starlette-0.14.2 typing_extensions-4.1.1 uvicorn-0.13.4\n"
     ]
    }
   ],
   "source": [
    "!pip install -r fastapi-the-complete-course/FastAPI/TodoApp/requirements.txt"
   ]
  },
  {
   "cell_type": "markdown",
   "id": "176c20d0-3f4a-4709-a97a-36e9632bc6e7",
   "metadata": {},
   "source": [
    "## Overview FastAPI"
   ]
  },
  {
   "cell_type": "markdown",
   "id": "6a7f1f16-8132-4925-835a-51e2a53c6a1f",
   "metadata": {},
   "source": [
    "- FastAPI is a python web-frameworkfor building modern and API \n",
    "    - it easy and fast to develop API and its Faster in performance\n",
    "    - it has a few Bugs \n",
    "    - its Quick and easy to build and lot of documentation to work on it \n",
    "    - it uses OpenAPI standards and json schema"
   ]
  },
  {
   "cell_type": "code",
   "execution_count": 2,
   "id": "b21f64b4-7795-4f32-90c8-a025968b55e2",
   "metadata": {},
   "outputs": [],
   "source": [
    "# Run the below code in VS Studio to test the API\n",
    "from fastapi import FastAPI\n",
    "app = FastAPI()\n",
    "@app.get(\"/\")\n",
    "async def first_api():\n",
    "    return{\"message\":\"Hello User\"}"
   ]
  },
  {
   "cell_type": "markdown",
   "id": "f483fe7d-0a11-478e-8ff1-0eeb88c0ee58",
   "metadata": {},
   "source": [
    " - GET\n",
    "    - GET method is used to read the data or get the data from the one end to other end \n",
    "    - it is similar to read command in file Handling\n",
    "    - with get method we cant get the payload from the user but we can get small snippets as path parameters or query parameters\n",
    "- POST \n",
    "    - POST method is used to update an object or submit the data to the \n",
    "    - with post method we can get a large amount of information as a payload from the user and also it can be used similar to get request \n",
    "- PUT \n",
    "    - PUT method is used to update the entire data ( or ) Create and submit that we stored previously\n",
    "- PATCH\n",
    "    - PATCH method is used the small part of the data that we stored previously\n",
    "- DELETE\n",
    "    - DELETE method is used to delete the piece of data resource \n",
    "    \n",
    "## These all methods are called as CRUD methods \n",
    "- CRUD means\n",
    "    - Create\n",
    "    - Read\n",
    "    - Update\n",
    "    - Delete\n",
    "    \n",
    "- WE have other rare case used methods available these are \n",
    "- Trace\n",
    "    - the TRACE method performs a message loop-back to the target\n",
    "- OPTIONS\n",
    "    - Describes communication options to the target\n",
    "- CONNECT\n",
    "    - Creates a tubbel to the server, based on the target resource\n",
    "   \n",
    "## FastAPI Status codes\n",
    "- 1XX information Response: Request processing\n",
    "    - this means server is processing the request that we requested\n",
    "- 2XX Success :Request successufully completed\n",
    "    - this 200-299 status code refer to the request that we requested was successfully processed and got the information from the server\n",
    "- 3XX Redirection: Further action must be completed\n",
    "    - this means the client need to redirect as the client needs to complete another action to complete the request\n",
    "- 4XX Client Errors:This caused by the request from the client\n",
    "    - this usually caused due to the syntex error and data was not sufficient\n",
    "- 5XX Server error: AN error has occured on the server\n",
    "    - this usually caused due to the Syntex or application error at the server"
   ]
  },
  {
   "cell_type": "markdown",
   "id": "5566e9a1-4874-4ff1-891c-fa4192ebef6e",
   "metadata": {},
   "source": [
    "## To run this File we need to used command that\n",
    "- uvicorn books:app --reload\n",
    "    - uvicorn was a import that need to build and register our server\n",
    "    - books was a python file name that we have created\n",
    "    - we are registering the python file books to the app which is class instence variable for FastAPI in the python file app=FastAPI()\n",
    "    - --reload means to reload the development server as we changing code very often in production server  we don't do reloads"
   ]
  },
  {
   "cell_type": "code",
   "execution_count": null,
   "id": "0fa0f8e4-44cc-425f-b385-2ec68fa27878",
   "metadata": {},
   "outputs": [],
   "source": []
  }
 ],
 "metadata": {
  "kernelspec": {
   "display_name": "Python 3 (ipykernel)",
   "language": "python",
   "name": "python3"
  },
  "language_info": {
   "codemirror_mode": {
    "name": "ipython",
    "version": 3
   },
   "file_extension": ".py",
   "mimetype": "text/x-python",
   "name": "python",
   "nbconvert_exporter": "python",
   "pygments_lexer": "ipython3",
   "version": "3.9.7"
  }
 },
 "nbformat": 4,
 "nbformat_minor": 5
}
